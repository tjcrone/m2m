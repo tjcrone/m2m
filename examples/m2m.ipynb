{
 "cells": [
  {
   "cell_type": "code",
   "execution_count": 1,
   "metadata": {
    "collapsed": true
   },
   "outputs": [],
   "source": [
    "import m2m"
   ]
  },
  {
   "cell_type": "code",
   "execution_count": 2,
   "metadata": {},
   "outputs": [
    {
     "data": {
      "text/plain": [
       "[3714996369.921761,\n",
       " 3.7955000400543213,\n",
       " 2.637500047683716,\n",
       " 10.329000473022461,\n",
       " 3.9453999996185303,\n",
       " 2.999300003051758,\n",
       " 2.912899971008301,\n",
       " 2.944000005722046,\n",
       " 2.848299980163574,\n",
       " 2.7964000701904297,\n",
       " 2.9790000915527344,\n",
       " 3.6572000980377197,\n",
       " 5.603099822998047,\n",
       " 3.0064001083374023,\n",
       " 3.97379994392395,\n",
       " 3.3417000770568848,\n",
       " 4.0030999183654785,\n",
       " 3.946899890899658,\n",
       " 3.178299903869629,\n",
       " 2.7713000774383545,\n",
       " 2.725100040435791,\n",
       " 2.8160998821258545,\n",
       " 2.6747000217437744,\n",
       " 2.5234999656677246,\n",
       " 2.8176000118255615]"
      ]
     },
     "execution_count": 2,
     "metadata": {},
     "output_type": "execute_result"
    }
   ],
   "source": [
    "m2m.get_latest('ashes_temp_array_01')"
   ]
  }
 ],
 "metadata": {
  "kernelspec": {
   "display_name": "Python 3",
   "language": "python",
   "name": "python3"
  },
  "language_info": {
   "codemirror_mode": {
    "name": "ipython",
    "version": 3
   },
   "file_extension": ".py",
   "mimetype": "text/x-python",
   "name": "python",
   "nbconvert_exporter": "python",
   "pygments_lexer": "ipython3",
   "version": "3.6.2"
  }
 },
 "nbformat": 4,
 "nbformat_minor": 2
}
